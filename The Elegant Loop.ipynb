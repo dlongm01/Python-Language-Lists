{
 "cells": [
  {
   "cell_type": "markdown",
   "metadata": {
    "colab_type": "toc",
    "id": "tozas7A6Q8s8"
   },
   "source": [
    ">>[Python Word Boxes: The For loop](#scrollTo=lxwFo7pkRBDx)\n",
    "\n",
    ">>[The Elegant Loop](#scrollTo=MSc5k73ddBgb)\n",
    "\n",
    ">[GoTo: The Rest of It](#scrollTo=vBDeyNRWgg_o)\n",
    "\n"
   ]
  },
  {
   "cell_type": "markdown",
   "metadata": {
    "colab_type": "text",
    "id": "lxwFo7pkRBDx"
   },
   "source": [
    "## Python Word Boxes: The For loop\n",
    "\n",
    "The idea of a loop in a computer program is probably quite familiar nowadays. Many teachers, inadevertently or otherwise, have used them or seen them in action (probably more primary teachers than secondary because of things like Logo, Turtles, Beebots etc.).\n",
    "\n",
    "Common and ubiquitous names for loops include REPEAT, WHILE, and FOR-NEXT.\n",
    "\n",
    "A FOR-NEXT is a simple counter loop. Tell it how many times to loop and tell it what to do each time:\n",
    "\n",
    "> FOR X = 1 to 20\n",
    "\n",
    ">  PRINT(X)\n",
    "\n",
    "> NEXT\n",
    "\n",
    "This will print the value X twenty times.\n",
    "\n",
    "Python has its own approach to this, simpler and more elegant.\n"
   ]
  },
  {
   "cell_type": "markdown",
   "metadata": {
    "colab_type": "text",
    "id": "MSc5k73ddBgb"
   },
   "source": [
    "## The Elegant Loop\n",
    "\n",
    "Python simply iterates through any list or string, stopping automatically.\n",
    "In the next code example note two important syntax details:\n",
    "\n",
    "* the use of the colon\n",
    "* the use of indentation"
   ]
  },
  {
   "cell_type": "code",
   "execution_count": null,
   "metadata": {
    "colab": {},
    "colab_type": "code",
    "id": "52pvfvjCd_uM",
    "scrolled": true
   },
   "outputs": [],
   "source": [
    "verse=[\n",
    "\"Twinkle, twinkle, little bat!,\",\"How I wonder where you're at!\",\n",
    "\"Up above the world you fly,\",\"Like a teatray in the sky.\"\n",
    "]\n",
    "\n",
    "for line in verse:\n",
    "    print(line)"
   ]
  },
  {
   "cell_type": "markdown",
   "metadata": {
    "colab_type": "text",
    "id": "04e6OsAxeILf"
   },
   "source": [
    "\n",
    "No need to say where the list begins and ends (though that can be done if needed).  Any list is treated as an iterable and the 'counter variable' contains the next object in the list.\n",
    "\n",
    "So the code above displays the whole verse, line by line.\n",
    "\n",
    "NOTE the use of a four space indentation in the second line of the For loop.  Indentations can be a crucial part of Python syntax."
   ]
  },
  {
   "cell_type": "code",
   "execution_count": 8,
   "metadata": {
    "colab": {
     "base_uri": "https://localhost:8080/",
     "height": 101
    },
    "colab_type": "code",
    "executionInfo": {
     "elapsed": 473,
     "status": "ok",
     "timestamp": 1543166355473,
     "user": {
      "displayName": "David J Longman",
      "photoUrl": "https://lh6.googleusercontent.com/-0DTM1rJBxAU/AAAAAAAAAAI/AAAAAAAAAAA/0INLw1QyUzI/s64/photo.jpg",
      "userId": "16557898305300197496"
     },
     "user_tz": 0
    },
    "id": "haC4EEnl6ctm",
    "outputId": "6d8a0800-a943-4341-e044-2d080122363c"
   },
   "outputs": [
    {
     "name": "stdout",
     "output_type": "stream",
     "text": [
      "28\n",
      "Digital Competence Framework\n",
      "\n",
      "1\n",
      "Digital Competence Framework\n"
     ]
    }
   ],
   "source": [
    "# Example 1\n",
    "item=\"Digital Competence Framework\"\n",
    "print(len(item))\n",
    "print(item)\n",
    "print()\n",
    "\n",
    "#Example 2\n",
    "lst=[\"Digital Competence Framework\"]\n",
    "print(len(lst))\n",
    "print(lst[0]) "
   ]
  },
  {
   "cell_type": "markdown",
   "metadata": {
    "colab_type": "text",
    "id": "1kbMCEBLFc2t"
   },
   "source": [
    "Of course, you may well want a loop to simply count!\n",
    "\n",
    "Here is where the function range() is useful\n",
    "\n",
    "* range(4) will generate values from 0 to 3\n",
    "\n",
    "* range(1,5) will generate numbers from 1 to 4)\n",
    "\n",
    "* etc."
   ]
  },
  {
   "cell_type": "code",
   "execution_count": 0,
   "metadata": {
    "colab": {},
    "colab_type": "code",
    "id": "x_K0Oo9IFcQV"
   },
   "outputs": [],
   "source": [
    "for number in range(4):\n",
    "    print(number)\n",
    "    \n",
    "print()\n",
    "\n",
    "for i in range(1,5):\n",
    "\tprint(i)\n",
    "    \n",
    "for number in range(4)+1:\n",
    "    print(number)  \n",
    "    "
   ]
  },
  {
   "cell_type": "markdown",
   "metadata": {
    "colab_type": "text",
    "id": "bT3ph-iKgnnD"
   },
   "source": [
    "OK that's it - all the basic knowledge you need to build Word Boxes:\n",
    "\n",
    "* Variables\n",
    "* Lists\n",
    "* Loops\n",
    "\n",
    "From this point there will be more of a  'paper first' approach, i.e. a 'fixed' worksheet, with occasional uses of a Jupyter Notebook.\n",
    "\n",
    "One good reason for this is that more use is made of file handling, particularly for 'data files', local file management and management of external Python resources. It's better to learn about all that in the context of your own IDE."
   ]
  },
  {
   "cell_type": "markdown",
   "metadata": {
    "colab_type": "text",
    "id": "vBDeyNRWgg_o"
   },
   "source": [
    "#<center>GoTo: [The Rest of It](ddd)</center>"
   ]
  }
 ],
 "metadata": {
  "colab": {
   "collapsed_sections": [],
   "name": "The Elegant Loop.ipynb",
   "provenance": [],
   "version": "0.3.2"
  },
  "kernelspec": {
   "display_name": "Python 3",
   "language": "python",
   "name": "python3"
  },
  "language_info": {
   "codemirror_mode": {
    "name": "ipython",
    "version": 3
   },
   "file_extension": ".py",
   "mimetype": "text/x-python",
   "name": "python",
   "nbconvert_exporter": "python",
   "pygments_lexer": "ipython3",
   "version": "3.6.5"
  }
 },
 "nbformat": 4,
 "nbformat_minor": 1
}
